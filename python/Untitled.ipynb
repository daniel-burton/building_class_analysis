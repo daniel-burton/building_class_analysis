{
 "cells": [
  {
   "cell_type": "code",
   "execution_count": 1,
   "metadata": {},
   "outputs": [],
   "source": [
    "import pandas as pd"
   ]
  },
  {
   "cell_type": "code",
   "execution_count": 2,
   "metadata": {},
   "outputs": [
    {
     "name": "stdout",
     "output_type": "stream",
     "text": [
      "/home/dan/code/python/building_class_analysis\n"
     ]
    }
   ],
   "source": [
    "% cd .."
   ]
  },
  {
   "cell_type": "code",
   "execution_count": 3,
   "metadata": {},
   "outputs": [
    {
     "name": "stdout",
     "output_type": "stream",
     "text": [
      "/home/dan/code/python/building_class_analysis/processed_data/pluto\n"
     ]
    }
   ],
   "source": [
    "% cd ./processed_data/pluto/"
   ]
  },
  {
   "cell_type": "code",
   "execution_count": 4,
   "metadata": {},
   "outputs": [],
   "source": [
    "from_csv = pd.read_csv(\"bk_bldg.csv\")"
   ]
  },
  {
   "cell_type": "code",
   "execution_count": 5,
   "metadata": {},
   "outputs": [
    {
     "data": {
      "text/html": [
       "<div>\n",
       "<style scoped>\n",
       "    .dataframe tbody tr th:only-of-type {\n",
       "        vertical-align: middle;\n",
       "    }\n",
       "\n",
       "    .dataframe tbody tr th {\n",
       "        vertical-align: top;\n",
       "    }\n",
       "\n",
       "    .dataframe thead th {\n",
       "        text-align: right;\n",
       "    }\n",
       "</style>\n",
       "<table border=\"1\" class=\"dataframe\">\n",
       "  <thead>\n",
       "    <tr style=\"text-align: right;\">\n",
       "      <th></th>\n",
       "      <th>BBL</th>\n",
       "      <th>Borough</th>\n",
       "      <th>Block</th>\n",
       "      <th>Lot</th>\n",
       "      <th>CD</th>\n",
       "      <th>CT2010</th>\n",
       "      <th>CB2010</th>\n",
       "      <th>Address</th>\n",
       "      <th>BldgClass</th>\n",
       "      <th>Tract2010</th>\n",
       "    </tr>\n",
       "  </thead>\n",
       "  <tbody>\n",
       "    <tr>\n",
       "      <th>0</th>\n",
       "      <td>3000010001</td>\n",
       "      <td>BK</td>\n",
       "      <td>1</td>\n",
       "      <td>1</td>\n",
       "      <td>302</td>\n",
       "      <td>21.0</td>\n",
       "      <td>NaN</td>\n",
       "      <td>JOHN STREET</td>\n",
       "      <td>V1</td>\n",
       "      <td>2100</td>\n",
       "    </tr>\n",
       "    <tr>\n",
       "      <th>1</th>\n",
       "      <td>3000010050</td>\n",
       "      <td>BK</td>\n",
       "      <td>1</td>\n",
       "      <td>50</td>\n",
       "      <td>302</td>\n",
       "      <td>21.0</td>\n",
       "      <td>2000.0</td>\n",
       "      <td>10 JAY STREET</td>\n",
       "      <td>O6</td>\n",
       "      <td>2100</td>\n",
       "    </tr>\n",
       "    <tr>\n",
       "      <th>2</th>\n",
       "      <td>3000017501</td>\n",
       "      <td>BK</td>\n",
       "      <td>1</td>\n",
       "      <td>7501</td>\n",
       "      <td>302</td>\n",
       "      <td>21.0</td>\n",
       "      <td>2000.0</td>\n",
       "      <td>1 JOHN STREET</td>\n",
       "      <td>RM</td>\n",
       "      <td>2100</td>\n",
       "    </tr>\n",
       "    <tr>\n",
       "      <th>3</th>\n",
       "      <td>3000030001</td>\n",
       "      <td>BK</td>\n",
       "      <td>3</td>\n",
       "      <td>1</td>\n",
       "      <td>302</td>\n",
       "      <td>21.0</td>\n",
       "      <td>3002.0</td>\n",
       "      <td>JAY STREET</td>\n",
       "      <td>U4</td>\n",
       "      <td>2100</td>\n",
       "    </tr>\n",
       "    <tr>\n",
       "      <th>4</th>\n",
       "      <td>3000030005</td>\n",
       "      <td>BK</td>\n",
       "      <td>3</td>\n",
       "      <td>5</td>\n",
       "      <td>302</td>\n",
       "      <td>21.0</td>\n",
       "      <td>NaN</td>\n",
       "      <td>JAY STREET</td>\n",
       "      <td>T2</td>\n",
       "      <td>2100</td>\n",
       "    </tr>\n",
       "  </tbody>\n",
       "</table>\n",
       "</div>"
      ],
      "text/plain": [
       "          BBL Borough  Block   Lot   CD  CT2010  CB2010        Address  \\\n",
       "0  3000010001      BK      1     1  302    21.0     NaN    JOHN STREET   \n",
       "1  3000010050      BK      1    50  302    21.0  2000.0  10 JAY STREET   \n",
       "2  3000017501      BK      1  7501  302    21.0  2000.0  1 JOHN STREET   \n",
       "3  3000030001      BK      3     1  302    21.0  3002.0     JAY STREET   \n",
       "4  3000030005      BK      3     5  302    21.0     NaN     JAY STREET   \n",
       "\n",
       "  BldgClass  Tract2010  \n",
       "0        V1       2100  \n",
       "1        O6       2100  \n",
       "2        RM       2100  \n",
       "3        U4       2100  \n",
       "4        T2       2100  "
      ]
     },
     "execution_count": 5,
     "metadata": {},
     "output_type": "execute_result"
    }
   ],
   "source": [
    "from_csv.head()"
   ]
  },
  {
   "cell_type": "code",
   "execution_count": 6,
   "metadata": {},
   "outputs": [
    {
     "name": "stdout",
     "output_type": "stream",
     "text": [
      "/home/dan/code/python/building_class_analysis/processed_data\n"
     ]
    }
   ],
   "source": [
    "%cd .."
   ]
  },
  {
   "cell_type": "code",
   "execution_count": 7,
   "metadata": {},
   "outputs": [
    {
     "name": "stdout",
     "output_type": "stream",
     "text": [
      "/home/dan/code/python/building_class_analysis/processed_data/nta\n"
     ]
    }
   ],
   "source": [
    "%cd nta/"
   ]
  },
  {
   "cell_type": "code",
   "execution_count": null,
   "metadata": {},
   "outputs": [],
   "source": []
  }
 ],
 "metadata": {
  "kernelspec": {
   "display_name": "Python 3",
   "language": "python",
   "name": "python3"
  },
  "language_info": {
   "codemirror_mode": {
    "name": "ipython",
    "version": 3
   },
   "file_extension": ".py",
   "mimetype": "text/x-python",
   "name": "python",
   "nbconvert_exporter": "python",
   "pygments_lexer": "ipython3",
   "version": "3.6.5"
  }
 },
 "nbformat": 4,
 "nbformat_minor": 2
}
